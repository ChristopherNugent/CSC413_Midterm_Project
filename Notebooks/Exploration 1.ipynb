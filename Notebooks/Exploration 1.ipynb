{
 "cells": [
  {
   "cell_type": "code",
   "execution_count": 1,
   "metadata": {
    "collapsed": false,
    "deletable": true,
    "editable": true
   },
   "outputs": [
    {
     "name": "stdout",
     "output_type": "stream",
     "text": [
      "['All', 'work', 'play', 'makes', 'jack', 'dull', 'boy', '.', 'All', 'work', 'play', 'makes', 'jack', 'dull', 'boy', '.']\n"
     ]
    }
   ],
   "source": [
    "from nltk.tokenize import sent_tokenize, word_tokenize\n",
    "from nltk.corpus import stopwords\n",
    " \n",
    "data = \"All work and no play makes jack dull boy. All work and no play makes jack a dull boy.\"\n",
    "stopWords = set(stopwords.words('english'))\n",
    "words = word_tokenize(data)\n",
    "wordsFiltered = [ w for w in words if w not in stopWords]\n",
    "print(wordsFiltered)"
   ]
  },
  {
   "cell_type": "code",
   "execution_count": 2,
   "metadata": {
    "collapsed": true
   },
   "outputs": [],
   "source": [
    "def lex(statement):\n",
    "    words = []\n",
    "    for w in word_tokenize(statement):\n",
    "        if w not in stopWords and w.isalpha():\n",
    "            words.append(w)\n",
    "    return words\n",
    "    return [ w for w in word_tokenize(statement) if w not in stopWords]"
   ]
  },
  {
   "cell_type": "code",
   "execution_count": 3,
   "metadata": {
    "collapsed": false
   },
   "outputs": [
    {
     "data": {
      "text/plain": [
       "['All',\n",
       " 'work',\n",
       " 'play',\n",
       " 'makes',\n",
       " 'jack',\n",
       " 'dull',\n",
       " 'boy',\n",
       " 'All',\n",
       " 'work',\n",
       " 'play',\n",
       " 'makes',\n",
       " 'jack',\n",
       " 'dull',\n",
       " 'boy']"
      ]
     },
     "execution_count": 3,
     "metadata": {},
     "output_type": "execute_result"
    }
   ],
   "source": [
    "lex(data)"
   ]
  },
  {
   "cell_type": "code",
   "execution_count": 4,
   "metadata": {
    "collapsed": false
   },
   "outputs": [],
   "source": [
    "def parse(lexed_statement,ns=(1,2)):\n",
    "    out = []\n",
    "    for n in ns:\n",
    "        for i in range(len(lexed_statement)):\n",
    "            out.append(tuple(lexed_statement[i:i+n]))\n",
    "    return set(tuple(out))"
   ]
  },
  {
   "cell_type": "code",
   "execution_count": 5,
   "metadata": {
    "collapsed": false
   },
   "outputs": [
    {
     "data": {
      "text/plain": [
       "{('All',),\n",
       " ('All', 'work'),\n",
       " ('boy',),\n",
       " ('boy', 'All'),\n",
       " ('dull',),\n",
       " ('dull', 'boy'),\n",
       " ('jack',),\n",
       " ('jack', 'dull'),\n",
       " ('makes',),\n",
       " ('makes', 'jack'),\n",
       " ('play',),\n",
       " ('play', 'makes'),\n",
       " ('work',),\n",
       " ('work', 'play')}"
      ]
     },
     "execution_count": 5,
     "metadata": {},
     "output_type": "execute_result"
    }
   ],
   "source": [
    "lexed  = lex(data)\n",
    "parse(lexed)"
   ]
  },
  {
   "cell_type": "code",
   "execution_count": 8,
   "metadata": {
    "collapsed": true
   },
   "outputs": [],
   "source": [
    "def lexed_and_parsed(statement):\n",
    "    return parse(lex(statement))"
   ]
  },
  {
   "cell_type": "code",
   "execution_count": 17,
   "metadata": {
    "collapsed": true
   },
   "outputs": [],
   "source": [
    "truth_text_mapping = {\n",
    "    'pants-fire':0,\n",
    "    'false':0.1,\n",
    "    'barely-true':0.25,\n",
    "    'half-true':0.5,\n",
    "    'mostly-true':0.75,\n",
    "    'true':1\n",
    "}\n",
    "class Statement:\n",
    "    def __init__(self, body, speaker, value):\n",
    "        self.body = body\n",
    "        self.speaker = speaker\n",
    "        self.value = truth_text_mapping[value]\n",
    "    \n",
    "    \n",
    "    @staticmethod\n",
    "    def from_row(row):\n",
    "        return Statement(value=row[1], body=row[2], speaker=row[4])\n",
    "    \n",
    "    \n",
    "    def __repr__(self):\n",
    "        arg_str =  str(', '.join(['='.join([i[0],repr(i[1])]) for i in vars(self).items()]))\n",
    "        return \"Statement({})\".format(arg_str)\n",
    "    \n",
    "    \n",
    "    def __str__(self):\n",
    "        return repr(self)"
   ]
  },
  {
   "cell_type": "code",
   "execution_count": 18,
   "metadata": {
    "collapsed": false
   },
   "outputs": [
    {
     "data": {
      "text/plain": [
       "[Statement(value=0.1, body='Says the Annies List political group supports third-trimester abortions on demand.', speaker='dwayne-bohac'),\n",
       " Statement(value=0.5, body='When did the decline of coal start? It started when natural gas took off that started to begin in (President George W.) Bushs administration.', speaker='scott-surovell'),\n",
       " Statement(value=0.75, body='Hillary Clinton agrees with John McCain \"by voting to give George Bush the benefit of the doubt on Iran.\"', speaker='barack-obama'),\n",
       " Statement(value=0.1, body='Health care reform legislation is likely to mandate free sex change surgeries.', speaker='blog-posting'),\n",
       " Statement(value=0.5, body='The economic turnaround started at the end of my term.', speaker='charlie-crist')]"
      ]
     },
     "execution_count": 18,
     "metadata": {},
     "output_type": "execute_result"
    }
   ],
   "source": [
    "import csv\n",
    "statements = []\n",
    "with open(\"../datasets/LIAR/train.tsv\") as data_file:\n",
    "    reader = csv.reader(data_file, delimiter='\\t', quotechar='\"')\n",
    "    for row in reader:\n",
    "        try:\n",
    "            statements.append(Statement.from_row(row))\n",
    "        except IndexError:\n",
    "            print(row,len(row))\n",
    "            \n",
    "statements[:5]"
   ]
  },
  {
   "cell_type": "code",
   "execution_count": null,
   "metadata": {
    "collapsed": true
   },
   "outputs": [],
   "source": []
  }
 ],
 "metadata": {
  "kernelspec": {
   "display_name": "Python 3",
   "language": "python",
   "name": "python3"
  },
  "language_info": {
   "codemirror_mode": {
    "name": "ipython",
    "version": 3
   },
   "file_extension": ".py",
   "mimetype": "text/x-python",
   "name": "python",
   "nbconvert_exporter": "python",
   "pygments_lexer": "ipython3",
   "version": "3.5.3"
  }
 },
 "nbformat": 4,
 "nbformat_minor": 2
}
