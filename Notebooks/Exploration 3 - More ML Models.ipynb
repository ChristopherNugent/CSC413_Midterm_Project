{
 "cells": [
  {
   "cell_type": "code",
   "execution_count": 1,
   "metadata": {},
   "outputs": [],
   "source": [
    "%matplotlib notebook\n",
    "import pandas\n",
    "import numpy as np\n",
    "from sklearn import linear_model\n",
    "import matplotlib.pyplot as plt\n",
    "import time"
   ]
  },
  {
   "cell_type": "code",
   "execution_count": 2,
   "metadata": {},
   "outputs": [
    {
     "data": {
      "text/plain": [
       "10241"
      ]
     },
     "execution_count": 2,
     "metadata": {},
     "output_type": "execute_result"
    }
   ],
   "source": [
    "truth_text_mapping = {\n",
    "    'pants-fire':0,\n",
    "    'false':1,\n",
    "    'barely-true':2,\n",
    "    'half-true':3,\n",
    "    'mostly-true':4,\n",
    "    'true':5\n",
    "}\n",
    "class Statement:\n",
    "    def __init__(self, body, speaker, value,context):\n",
    "        self.body = body\n",
    "        self.speaker = speaker\n",
    "        self.value = truth_text_mapping[value]\n",
    "        self.context = context\n",
    "    \n",
    "    \n",
    "    @staticmethod\n",
    "    def from_row(row):\n",
    "        return Statement(value=row[1],\n",
    "                         body=row[2],\n",
    "                         speaker=row[4],\n",
    "                         context=row[13])\n",
    "    \n",
    "    \n",
    "    def __repr__(self):\n",
    "        arg_str =  str(', '.join(['='.join([i[0],repr(i[1])]) for i in vars(self).items()]))\n",
    "        return \"Statement({})\".format(arg_str)\n",
    "    \n",
    "    \n",
    "    def __str__(self):\n",
    "        return repr(self)\n",
    "    \n",
    "import csv\n",
    "\n",
    "def load_liar_data(path):\n",
    "    statements = []\n",
    "    with open(path) as data_file:\n",
    "        reader = csv.reader(data_file, delimiter='\\t', quotechar='\"')\n",
    "        for row in reader:\n",
    "            try:\n",
    "                statements.append(Statement.from_row(row))\n",
    "            except IndexError:\n",
    "                print(row,len(row))\n",
    "    return statements\n",
    "statements = load_liar_data(\"../datasets/LIAR/train.tsv\") \n",
    "# print out some statements to verify by eye.\n",
    "len(statements)"
   ]
  },
  {
   "cell_type": "code",
   "execution_count": 3,
   "metadata": {},
   "outputs": [
    {
     "name": "stdout",
     "output_type": "stream",
     "text": [
      "Vocab size: (10241, 12193)\n"
     ]
    },
    {
     "data": {
      "text/plain": [
       "<10241x12193 sparse matrix of type '<class 'numpy.int64'>'\n",
       "\twith 165946 stored elements in Compressed Sparse Row format>"
      ]
     },
     "execution_count": 3,
     "metadata": {},
     "output_type": "execute_result"
    }
   ],
   "source": [
    "from sklearn.feature_extraction.text import CountVectorizer\n",
    "vectorizer = CountVectorizer()\n",
    "\n",
    "x = vectorizer.fit_transform([s.body for s in statements])\n",
    "y = np.array([s.value for s in statements]).ravel()\n",
    "\n",
    "# vocab\n",
    "# statements[0].body\n",
    "print('Vocab size:', x.shape)\n",
    "x"
   ]
  },
  {
   "cell_type": "code",
   "execution_count": 4,
   "metadata": {},
   "outputs": [
    {
     "data": {
      "text/plain": [
       "0.69208850272798461"
      ]
     },
     "execution_count": 4,
     "metadata": {},
     "output_type": "execute_result"
    }
   ],
   "source": [
    "clf = linear_model.Ridge(fit_intercept=True,alpha=0.01)\n",
    "clf.fit(x,y)\n",
    "clf.score(x,y)"
   ]
  },
  {
   "cell_type": "code",
   "execution_count": 5,
   "metadata": {},
   "outputs": [
    {
     "data": {
      "text/plain": [
       "-0.25244821760076208"
      ]
     },
     "execution_count": 5,
     "metadata": {},
     "output_type": "execute_result"
    }
   ],
   "source": [
    "test_statements = load_liar_data(\"../datasets/LIAR/test.tsv\")\n",
    "x_test = vectorizer.transform([s.body for s in test_statements])\n",
    "y_test = np.array([s.value for s in test_statements]).ravel()\n",
    "clf.score(x_test, y_test)"
   ]
  },
  {
   "cell_type": "code",
   "execution_count": 6,
   "metadata": {},
   "outputs": [
    {
     "data": {
      "text/plain": [
       "[(2.0472749806946871, 5),\n",
       " (1.8261264104265367, 1),\n",
       " (1.9000081939441396, 1),\n",
       " (1.8558205728828341, 3),\n",
       " (-0.28196753738752323, 0),\n",
       " (3.0690968994741619, 5),\n",
       " (2.6283695546077488, 5),\n",
       " (-0.052834952638648236, 2),\n",
       " (3.6759680743491745, 5),\n",
       " (3.436455107929925, 2),\n",
       " (2.2065671404383846, 2),\n",
       " (0.17781644197468127, 2),\n",
       " (1.8644100543699185, 0),\n",
       " (2.2102025252411828, 1),\n",
       " (2.0172950523918116, 3),\n",
       " (2.907837241061034, 5),\n",
       " (2.7933826170026697, 0),\n",
       " (3.2269402540345919, 3),\n",
       " (2.7893831267023552, 5),\n",
       " (3.0685015906353001, 1)]"
      ]
     },
     "execution_count": 6,
     "metadata": {},
     "output_type": "execute_result"
    }
   ],
   "source": [
    "# print out some predicted vs. actual values\n",
    "list(zip(clf.predict(x_test),y_test[:20]))"
   ]
  },
  {
   "cell_type": "code",
   "execution_count": 7,
   "metadata": {},
   "outputs": [
    {
     "name": "stdout",
     "output_type": "stream",
     "text": [
      "0.01 -0.252391607079\n",
      "0.0215443469003 -0.25096959462\n",
      "0.0464158883361 -0.247239113892\n",
      "0.1 -0.239322771602\n",
      "0.215443469003 -0.224873467611\n",
      "0.464158883361 -0.19546217465\n",
      "1.0 -0.141865218691\n",
      "2.15443469003 -0.0776402248728\n",
      "4.64158883361 -0.0169027384881\n",
      "10.0 0.0265075093176\n",
      "(10.0, 0.026507509317618139)\n"
     ]
    }
   ],
   "source": [
    "# find optimal alpha for linear Ridge model\n",
    "best = None\n",
    "for al in np.logspace(-2,1,10):\n",
    "    clf.set_params(alpha=al)\n",
    "    clf.fit(x,y)\n",
    "    s = clf.score(x_test, y_test)\n",
    "    if best is None or s > best[1]:\n",
    "        best = (al, s)\n",
    "    print(al, s)\n",
    "print(best)"
   ]
  },
  {
   "cell_type": "code",
   "execution_count": 8,
   "metadata": {},
   "outputs": [
    {
     "data": {
      "text/plain": [
       "Ridge(alpha=10.0, copy_X=True, fit_intercept=True, max_iter=None,\n",
       "   normalize=False, random_state=None, solver='auto', tol=0.001)"
      ]
     },
     "execution_count": 8,
     "metadata": {},
     "output_type": "execute_result"
    }
   ],
   "source": [
    "clf.set_params(alpha=best[0])\n",
    "clf.fit(x,y)"
   ]
  },
  {
   "cell_type": "code",
   "execution_count": 9,
   "metadata": {},
   "outputs": [
    {
     "data": {
      "text/plain": [
       "0.026455525070466557"
      ]
     },
     "execution_count": 9,
     "metadata": {},
     "output_type": "execute_result"
    }
   ],
   "source": [
    "clf.score(x_test,y_test)"
   ]
  },
  {
   "cell_type": "code",
   "execution_count": 10,
   "metadata": {},
   "outputs": [
    {
     "data": {
      "text/plain": [
       "[(1.9850047380894333, 5),\n",
       " (2.3123691664532631, 2),\n",
       " (2.063866140562939, 2),\n",
       " (1.8996995282554476, 3),\n",
       " (0.83674901774951826, 4),\n",
       " (2.5424982396365383, 4),\n",
       " (2.9507323648308996, 5),\n",
       " (1.2123083357129312, 4),\n",
       " (3.5090653687138569, 1),\n",
       " (2.8730446033567505, 0),\n",
       " (2.5370943959479089, 0),\n",
       " (1.430908582682233, 3),\n",
       " (2.2927058622837384, 2),\n",
       " (2.6513606528981293, 1),\n",
       " (2.6868274802971746, 0),\n",
       " (2.7842100963194198, 3),\n",
       " (2.3475649551525319, 2),\n",
       " (2.61991345736971, 2),\n",
       " (2.748466602966269, 2),\n",
       " (3.1766634228519992, 1)]"
      ]
     },
     "execution_count": 10,
     "metadata": {},
     "output_type": "execute_result"
    }
   ],
   "source": [
    "# print out some predicted vs. actual values\n",
    "list(zip(clf.predict(x_test),y_test[-20:]))"
   ]
  },
  {
   "cell_type": "code",
   "execution_count": 11,
   "metadata": {},
   "outputs": [
    {
     "data": {
      "text/plain": [
       "0.23283346487766376"
      ]
     },
     "execution_count": 11,
     "metadata": {},
     "output_type": "execute_result"
    }
   ],
   "source": [
    "from sklearn.svm import LinearSVC\n",
    "model = LinearSVC\n",
    "clf = model()\n",
    "clf.fit(x,y)\n",
    "clf.score(x_test,y_test)\n"
   ]
  },
  {
   "cell_type": "code",
   "execution_count": 12,
   "metadata": {},
   "outputs": [
    {
     "data": {
      "text/plain": [
       "0.18310970797158643"
      ]
     },
     "execution_count": 12,
     "metadata": {},
     "output_type": "execute_result"
    }
   ],
   "source": [
    "from sklearn.naive_bayes import GaussianNB, MultinomialNB\n",
    "clf = GaussianNB()\n",
    "clf.fit(x.toarray(),y)\n",
    "clf.score(x_test.toarray(),y_test)\n"
   ]
  },
  {
   "cell_type": "code",
   "execution_count": 13,
   "metadata": {},
   "outputs": [
    {
     "data": {
      "text/plain": [
       "0.24388318863456984"
      ]
     },
     "execution_count": 13,
     "metadata": {},
     "output_type": "execute_result"
    }
   ],
   "source": [
    "clf = MultinomialNB()\n",
    "clf.fit(x,y)\n",
    "clf.score(x_test,y_test)\n"
   ]
  },
  {
   "cell_type": "code",
   "execution_count": 14,
   "metadata": {},
   "outputs": [
    {
     "name": "stdout",
     "output_type": "stream",
     "text": [
      "0.001 0.0673758755054\n",
      "0.00129154966501 0.0718589017622\n",
      "0.0016681005372 0.0718275178189\n",
      "0.00215443469003 0.0693462141626\n",
      "0.00278255940221 0.0667271790784\n",
      "0.0035938136638 0.0622470096344\n",
      "0.00464158883361 0.0556508909774\n",
      "0.00599484250319 0.0507454206886\n",
      "0.00774263682681 0.0463782286907\n",
      "0.01 0.0413154529219\n"
     ]
    }
   ],
   "source": [
    "for al in np.logspace(-3,-2,10):\n",
    "    clf = linear_model.Lasso(alpha = al)\n",
    "    clf.fit(x,y)\n",
    "    print(al, clf.score(x_test,y_test))"
   ]
  },
  {
   "cell_type": "code",
   "execution_count": null,
   "metadata": {},
   "outputs": [],
   "source": []
  }
 ],
 "metadata": {
  "kernelspec": {
   "display_name": "Python 3",
   "language": "python",
   "name": "python3"
  },
  "language_info": {
   "codemirror_mode": {
    "name": "ipython",
    "version": 3
   },
   "file_extension": ".py",
   "mimetype": "text/x-python",
   "name": "python",
   "nbconvert_exporter": "python",
   "pygments_lexer": "ipython3",
   "version": "3.5.3"
  }
 },
 "nbformat": 4,
 "nbformat_minor": 2
}
