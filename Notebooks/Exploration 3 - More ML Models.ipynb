{
 "cells": [
  {
   "cell_type": "markdown",
   "metadata": {},
   "source": [
    "Similar imports as before."
   ]
  },
  {
   "cell_type": "code",
   "execution_count": 1,
   "metadata": {},
   "outputs": [],
   "source": [
    "%matplotlib notebook\n",
    "import pandas\n",
    "import numpy as np\n",
    "from sklearn import linear_model\n",
    "import matplotlib.pyplot as plt\n",
    "import time"
   ]
  },
  {
   "cell_type": "code",
   "execution_count": 2,
   "metadata": {},
   "outputs": [
    {
     "data": {
      "text/plain": [
       "10241"
      ]
     },
     "execution_count": 2,
     "metadata": {},
     "output_type": "execute_result"
    }
   ],
   "source": [
    "truth_text_mapping = {\n",
    "    'pants-fire': 0,\n",
    "    'false': 1,\n",
    "    'barely-true': 2,\n",
    "    'half-true': 3,\n",
    "    'mostly-true': 4,\n",
    "    'true': 5\n",
    "}\n",
    "\n",
    "\n",
    "class Statement:\n",
    "    def __init__(self, body, speaker, value, context):\n",
    "        self.body = body\n",
    "        self.speaker = speaker\n",
    "        self.value = truth_text_mapping[value]\n",
    "        self.context = context\n",
    "\n",
    "    @staticmethod\n",
    "    def from_row(row):\n",
    "        return Statement(value=row[1],\n",
    "                         body=row[2],\n",
    "                         speaker=row[4],\n",
    "                         context=row[13])\n",
    "\n",
    "    def __repr__(self):\n",
    "        arg_str = str(', '.join(['='.join([i[0], repr(i[1])])\n",
    "                                 for i in vars(self).items()]))\n",
    "        return \"Statement({})\".format(arg_str)\n",
    "\n",
    "    def __str__(self):\n",
    "        return repr(self)\n",
    "\n",
    "    @property\n",
    "    def features(self):\n",
    "        return ' '.join([self.speaker, self.context, self.body])\n",
    "\n",
    "\n",
    "import csv\n",
    "\n",
    "\n",
    "def load_liar_data(path):\n",
    "    statements = []\n",
    "    with open(path) as data_file:\n",
    "        reader = csv.reader(data_file, delimiter='\\t', quotechar='\"')\n",
    "        for row in reader:\n",
    "            try:\n",
    "                statements.append(Statement.from_row(row))\n",
    "            except IndexError:\n",
    "                print(row, len(row))\n",
    "    return statements\n",
    "\n",
    "\n",
    "statements = load_liar_data(\"../datasets/LIAR/train.tsv\")\n",
    "# print out some statements to verify by eye.\n",
    "len(statements)"
   ]
  },
  {
   "cell_type": "code",
   "execution_count": 3,
   "metadata": {},
   "outputs": [
    {
     "name": "stdout",
     "output_type": "stream",
     "text": [
      "Vocab size: (10241, 14552)\n"
     ]
    },
    {
     "data": {
      "text/plain": [
       "<10241x14552 sparse matrix of type '<class 'numpy.int64'>'\n",
       "\twith 221431 stored elements in Compressed Sparse Row format>"
      ]
     },
     "execution_count": 3,
     "metadata": {},
     "output_type": "execute_result"
    }
   ],
   "source": [
    "from sklearn.feature_extraction.text import CountVectorizer\n",
    "vectorizer = CountVectorizer()\n",
    "\n",
    "x = vectorizer.fit_transform([s.features for s in statements])\n",
    "y = np.array([s.value for s in statements]).ravel()\n",
    "\n",
    "# vocab\n",
    "# statements[0].body\n",
    "print('Vocab size:', x.shape)\n",
    "x"
   ]
  },
  {
   "cell_type": "code",
   "execution_count": 4,
   "metadata": {},
   "outputs": [
    {
     "data": {
      "text/plain": [
       "0.73764421048562223"
      ]
     },
     "execution_count": 4,
     "metadata": {},
     "output_type": "execute_result"
    }
   ],
   "source": [
    "clf = linear_model.Ridge(fit_intercept=True, alpha=0.01)\n",
    "clf.fit(x, y)\n",
    "clf.score(x, y)"
   ]
  },
  {
   "cell_type": "code",
   "execution_count": 5,
   "metadata": {},
   "outputs": [
    {
     "data": {
      "text/plain": [
       "-0.15355250207925675"
      ]
     },
     "execution_count": 5,
     "metadata": {},
     "output_type": "execute_result"
    }
   ],
   "source": [
    "test_statements = load_liar_data(\"../datasets/LIAR/test.tsv\")\n",
    "x_test = vectorizer.transform([s.body for s in test_statements])\n",
    "y_test = np.array([s.value for s in test_statements]).ravel()\n",
    "clf.score(x_test, y_test)"
   ]
  },
  {
   "cell_type": "code",
   "execution_count": 6,
   "metadata": {},
   "outputs": [
    {
     "data": {
      "text/plain": [
       "[(2.3190148093157847, 5),\n",
       " (2.5264375090142104, 1),\n",
       " (1.9545609280672682, 1),\n",
       " (2.2104322327193056, 3),\n",
       " (0.74627427433243954, 0),\n",
       " (3.2444147393076901, 5),\n",
       " (4.3541678624691773, 5),\n",
       " (0.55351543858837626, 2),\n",
       " (2.0689796475251283, 5),\n",
       " (4.1465117319822618, 2),\n",
       " (2.3783477202740246, 2),\n",
       " (0.57094086590817872, 2),\n",
       " (2.5052177980042387, 0),\n",
       " (2.3567443396935608, 1),\n",
       " (2.221714769257753, 3),\n",
       " (2.920319039580844, 5),\n",
       " (2.677090818797252, 0),\n",
       " (2.5799909333286504, 3),\n",
       " (2.3387620984333815, 5),\n",
       " (3.1518270417649581, 1)]"
      ]
     },
     "execution_count": 6,
     "metadata": {},
     "output_type": "execute_result"
    }
   ],
   "source": [
    "# print out some predicted vs. actual values\n",
    "list(zip(clf.predict(x_test), y_test[:20]))"
   ]
  },
  {
   "cell_type": "code",
   "execution_count": 7,
   "metadata": {},
   "outputs": [
    {
     "name": "stdout",
     "output_type": "stream",
     "text": [
      "0.01 -0.153886870728\n",
      "0.0215443469003 -0.151199543725\n",
      "0.0464158883361 -0.147757688471\n",
      "0.1 -0.141873438231\n",
      "0.215443469003 -0.133104059989\n",
      "0.464158883361 -0.117215704741\n",
      "1.0 -0.0899746504741\n",
      "2.15443469003 -0.0514309824428\n",
      "4.64158883361 -0.00833071742524\n",
      "10.0 0.0292901659787\n",
      "(10.0, 0.029290165978745786)\n"
     ]
    }
   ],
   "source": [
    "# find optimal alpha for linear Ridge model\n",
    "best = None\n",
    "for al in np.logspace(-2, 1, 10):\n",
    "    clf.set_params(alpha=al)\n",
    "    clf.fit(x, y)\n",
    "    s = clf.score(x_test, y_test)\n",
    "    if best is None or s > best[1]:\n",
    "        best = (al, s)\n",
    "    print(al, s)\n",
    "print(best)"
   ]
  },
  {
   "cell_type": "code",
   "execution_count": 8,
   "metadata": {},
   "outputs": [
    {
     "data": {
      "text/plain": [
       "Ridge(alpha=10.0, copy_X=True, fit_intercept=True, max_iter=None,\n",
       "   normalize=False, random_state=None, solver='auto', tol=0.001)"
      ]
     },
     "execution_count": 8,
     "metadata": {},
     "output_type": "execute_result"
    }
   ],
   "source": [
    "clf.set_params(alpha=best[0])\n",
    "clf.fit(x, y)"
   ]
  },
  {
   "cell_type": "code",
   "execution_count": 9,
   "metadata": {},
   "outputs": [
    {
     "data": {
      "text/plain": [
       "0.029240617130987471"
      ]
     },
     "execution_count": 9,
     "metadata": {},
     "output_type": "execute_result"
    }
   ],
   "source": [
    "clf.score(x_test, y_test)"
   ]
  },
  {
   "cell_type": "code",
   "execution_count": 10,
   "metadata": {},
   "outputs": [
    {
     "data": {
      "text/plain": [
       "[(2.3209795324701092, 5),\n",
       " (2.6715138179302662, 2),\n",
       " (2.0496519548811736, 2),\n",
       " (2.2188680457871435, 3),\n",
       " (1.3843752973352774, 4),\n",
       " (2.9208670822019425, 4),\n",
       " (3.6224864057170159, 5),\n",
       " (1.2337969189914391, 4),\n",
       " (2.3075057959753473, 1),\n",
       " (3.5117613394166924, 0),\n",
       " (2.5199625546045241, 0),\n",
       " (1.5839646421350715, 3),\n",
       " (2.5158981655332973, 2),\n",
       " (2.8834155462485995, 1),\n",
       " (2.635620040189552, 0),\n",
       " (2.8464316728044619, 3),\n",
       " (2.4783848179009453, 2),\n",
       " (2.3252019983155332, 2),\n",
       " (2.5958912519461395, 2),\n",
       " (3.1956225085754912, 1)]"
      ]
     },
     "execution_count": 10,
     "metadata": {},
     "output_type": "execute_result"
    }
   ],
   "source": [
    "# print out some predicted vs. actual values\n",
    "list(zip(clf.predict(x_test), y_test[-20:]))"
   ]
  },
  {
   "cell_type": "markdown",
   "metadata": {},
   "source": [
    "Quantify the performance of other models."
   ]
  },
  {
   "cell_type": "code",
   "execution_count": 11,
   "metadata": {},
   "outputs": [
    {
     "data": {
      "text/plain": [
       "0.22494080505130229"
      ]
     },
     "execution_count": 11,
     "metadata": {},
     "output_type": "execute_result"
    }
   ],
   "source": [
    "from sklearn.svm import LinearSVC\n",
    "model = LinearSVC\n",
    "clf = model()\n",
    "clf.fit(x, y)\n",
    "clf.score(x_test, y_test)"
   ]
  },
  {
   "cell_type": "code",
   "execution_count": 12,
   "metadata": {},
   "outputs": [
    {
     "data": {
      "text/plain": [
       "0.17442778216258878"
      ]
     },
     "execution_count": 12,
     "metadata": {},
     "output_type": "execute_result"
    }
   ],
   "source": [
    "from sklearn.naive_bayes import GaussianNB, MultinomialNB, BernoulliNB\n",
    "clf = GaussianNB()\n",
    "clf.fit(x.toarray(), y)\n",
    "clf.score(x_test.toarray(), y_test)"
   ]
  },
  {
   "cell_type": "code",
   "execution_count": 13,
   "metadata": {},
   "outputs": [
    {
     "data": {
      "text/plain": [
       "0.23441199684293607"
      ]
     },
     "execution_count": 13,
     "metadata": {},
     "output_type": "execute_result"
    }
   ],
   "source": [
    "clf = MultinomialNB()\n",
    "clf.fit(x, y)\n",
    "clf.score(x_test, y_test)"
   ]
  },
  {
   "cell_type": "code",
   "execution_count": 14,
   "metadata": {},
   "outputs": [
    {
     "data": {
      "text/plain": [
       "0.24704025256511444"
      ]
     },
     "execution_count": 14,
     "metadata": {},
     "output_type": "execute_result"
    }
   ],
   "source": [
    "clf = BernoulliNB()\n",
    "clf.fit(x, y)\n",
    "clf.score(x_test, y_test)"
   ]
  },
  {
   "cell_type": "code",
   "execution_count": 15,
   "metadata": {},
   "outputs": [
    {
     "name": "stdout",
     "output_type": "stream",
     "text": [
      "10.0 0.000830238172206\n"
     ]
    }
   ],
   "source": [
    "clf = linear_model.Lasso(alpha=0.1)\n",
    "clf.fit(x, y)\n",
    "print(al, clf.score(x_test, y_test))"
   ]
  },
  {
   "cell_type": "markdown",
   "metadata": {},
   "source": [
    "# Conclusion\n",
    "\n",
    "The paper achieved similar accuracy to my experiments here at about 23%."
   ]
  },
  {
   "cell_type": "code",
   "execution_count": null,
   "metadata": {},
   "outputs": [],
   "source": [
    "    "
   ]
  }
 ],
 "metadata": {
  "kernelspec": {
   "display_name": "Python 3",
   "language": "python",
   "name": "python3"
  },
  "language_info": {
   "codemirror_mode": {
    "name": "ipython",
    "version": 3
   },
   "file_extension": ".py",
   "mimetype": "text/x-python",
   "name": "python",
   "nbconvert_exporter": "python",
   "pygments_lexer": "ipython3",
   "version": "3.5.3"
  }
 },
 "nbformat": 4,
 "nbformat_minor": 2
}
